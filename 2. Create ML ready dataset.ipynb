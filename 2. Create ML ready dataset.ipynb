{
 "cells": [
  {
   "cell_type": "code",
   "execution_count": 53,
   "id": "6774aa9f",
   "metadata": {},
   "outputs": [],
   "source": [
    "import os\n",
    "import pandas as pd\n",
    "import json\n",
    "from Bio.PDB import *\n",
    "from Bio import SeqIO\n",
    "import nglview as nv\n",
    "import numpy as np\n",
    "import matplotlib.pyplot as plt\n",
    "import seaborn as sns\n",
    "from biofunctions.pdb_handler import PDBHandler\n",
    "pd.set_option('display.max_columns', 100)"
   ]
  },
  {
   "cell_type": "markdown",
   "id": "6ee83614",
   "metadata": {},
   "source": [
    "The objective of this notebook is to obtain the dataset that contains the epitope residue sequences based on the distance betweem CDR residues and antigen residues."
   ]
  },
  {
   "cell_type": "markdown",
   "id": "0393b34a",
   "metadata": {},
   "source": [
    "# 1. Load distances as a dictionary"
   ]
  },
  {
   "cell_type": "code",
   "execution_count": 54,
   "id": "747af70e",
   "metadata": {},
   "outputs": [],
   "source": [
    "distances_df = pd.read_csv('distances.csv',index_col=0)"
   ]
  },
  {
   "cell_type": "code",
   "execution_count": 55,
   "id": "35681e48",
   "metadata": {},
   "outputs": [
    {
     "data": {
      "text/html": [
       "<div>\n",
       "<style scoped>\n",
       "    .dataframe tbody tr th:only-of-type {\n",
       "        vertical-align: middle;\n",
       "    }\n",
       "\n",
       "    .dataframe tbody tr th {\n",
       "        vertical-align: top;\n",
       "    }\n",
       "\n",
       "    .dataframe thead th {\n",
       "        text-align: right;\n",
       "    }\n",
       "</style>\n",
       "<table border=\"1\" class=\"dataframe\">\n",
       "  <thead>\n",
       "    <tr style=\"text-align: right;\">\n",
       "      <th></th>\n",
       "      <th>ab_label</th>\n",
       "      <th>ab_res</th>\n",
       "      <th>ab_seqid</th>\n",
       "      <th>ag_label</th>\n",
       "      <th>ag_res</th>\n",
       "      <th>ag_seqid</th>\n",
       "      <th>distances</th>\n",
       "      <th>ab_ress_seqid</th>\n",
       "      <th>ag_ress_seqid</th>\n",
       "      <th>pdb</th>\n",
       "      <th>ab_letter</th>\n",
       "      <th>ag_letter</th>\n",
       "      <th>ab_letter_seqid</th>\n",
       "      <th>ag_letter_seqid</th>\n",
       "    </tr>\n",
       "  </thead>\n",
       "  <tbody>\n",
       "    <tr>\n",
       "      <th>8248</th>\n",
       "      <td>H</td>\n",
       "      <td>TYR</td>\n",
       "      <td>28</td>\n",
       "      <td>W</td>\n",
       "      <td>GLN</td>\n",
       "      <td>79</td>\n",
       "      <td>14.298218</td>\n",
       "      <td>TYR-28</td>\n",
       "      <td>GLN-79</td>\n",
       "      <td>1bj1</td>\n",
       "      <td>Y</td>\n",
       "      <td>Q</td>\n",
       "      <td>Y-28</td>\n",
       "      <td>Q-79</td>\n",
       "    </tr>\n",
       "    <tr>\n",
       "      <th>8249</th>\n",
       "      <td>H</td>\n",
       "      <td>TYR</td>\n",
       "      <td>28</td>\n",
       "      <td>W</td>\n",
       "      <td>MET</td>\n",
       "      <td>81</td>\n",
       "      <td>14.552553</td>\n",
       "      <td>TYR-28</td>\n",
       "      <td>MET-81</td>\n",
       "      <td>1bj1</td>\n",
       "      <td>Y</td>\n",
       "      <td>M</td>\n",
       "      <td>Y-28</td>\n",
       "      <td>M-81</td>\n",
       "    </tr>\n",
       "    <tr>\n",
       "      <th>8252</th>\n",
       "      <td>H</td>\n",
       "      <td>TYR</td>\n",
       "      <td>28</td>\n",
       "      <td>W</td>\n",
       "      <td>GLN</td>\n",
       "      <td>89</td>\n",
       "      <td>14.830989</td>\n",
       "      <td>TYR-28</td>\n",
       "      <td>GLN-89</td>\n",
       "      <td>1bj1</td>\n",
       "      <td>Y</td>\n",
       "      <td>Q</td>\n",
       "      <td>Y-28</td>\n",
       "      <td>Q-89</td>\n",
       "    </tr>\n",
       "    <tr>\n",
       "      <th>8225</th>\n",
       "      <td>H</td>\n",
       "      <td>THR</td>\n",
       "      <td>29</td>\n",
       "      <td>V</td>\n",
       "      <td>TYR</td>\n",
       "      <td>21</td>\n",
       "      <td>14.333929</td>\n",
       "      <td>THR-29</td>\n",
       "      <td>TYR-21</td>\n",
       "      <td>1bj1</td>\n",
       "      <td>T</td>\n",
       "      <td>Y</td>\n",
       "      <td>T-29</td>\n",
       "      <td>Y-21</td>\n",
       "    </tr>\n",
       "    <tr>\n",
       "      <th>8227</th>\n",
       "      <td>H</td>\n",
       "      <td>THR</td>\n",
       "      <td>29</td>\n",
       "      <td>W</td>\n",
       "      <td>LYS</td>\n",
       "      <td>48</td>\n",
       "      <td>14.978921</td>\n",
       "      <td>THR-29</td>\n",
       "      <td>LYS-48</td>\n",
       "      <td>1bj1</td>\n",
       "      <td>T</td>\n",
       "      <td>K</td>\n",
       "      <td>T-29</td>\n",
       "      <td>K-48</td>\n",
       "    </tr>\n",
       "    <tr>\n",
       "      <th>8223</th>\n",
       "      <td>H</td>\n",
       "      <td>THR</td>\n",
       "      <td>29</td>\n",
       "      <td>W</td>\n",
       "      <td>ILE</td>\n",
       "      <td>80</td>\n",
       "      <td>13.960920</td>\n",
       "      <td>THR-29</td>\n",
       "      <td>ILE-80</td>\n",
       "      <td>1bj1</td>\n",
       "      <td>T</td>\n",
       "      <td>I</td>\n",
       "      <td>T-29</td>\n",
       "      <td>I-80</td>\n",
       "    </tr>\n",
       "    <tr>\n",
       "      <th>8212</th>\n",
       "      <td>H</td>\n",
       "      <td>PHE</td>\n",
       "      <td>30</td>\n",
       "      <td>V</td>\n",
       "      <td>PHE</td>\n",
       "      <td>17</td>\n",
       "      <td>13.223936</td>\n",
       "      <td>PHE-30</td>\n",
       "      <td>PHE-17</td>\n",
       "      <td>1bj1</td>\n",
       "      <td>F</td>\n",
       "      <td>F</td>\n",
       "      <td>F-30</td>\n",
       "      <td>F-17</td>\n",
       "    </tr>\n",
       "    <tr>\n",
       "      <th>8216</th>\n",
       "      <td>H</td>\n",
       "      <td>PHE</td>\n",
       "      <td>30</td>\n",
       "      <td>W</td>\n",
       "      <td>GLY</td>\n",
       "      <td>88</td>\n",
       "      <td>14.412254</td>\n",
       "      <td>PHE-30</td>\n",
       "      <td>GLY-88</td>\n",
       "      <td>1bj1</td>\n",
       "      <td>F</td>\n",
       "      <td>G</td>\n",
       "      <td>F-30</td>\n",
       "      <td>G-88</td>\n",
       "    </tr>\n",
       "    <tr>\n",
       "      <th>8215</th>\n",
       "      <td>H</td>\n",
       "      <td>PHE</td>\n",
       "      <td>30</td>\n",
       "      <td>W</td>\n",
       "      <td>GLY</td>\n",
       "      <td>92</td>\n",
       "      <td>14.345451</td>\n",
       "      <td>PHE-30</td>\n",
       "      <td>GLY-92</td>\n",
       "      <td>1bj1</td>\n",
       "      <td>F</td>\n",
       "      <td>G</td>\n",
       "      <td>F-30</td>\n",
       "      <td>G-92</td>\n",
       "    </tr>\n",
       "    <tr>\n",
       "      <th>8233</th>\n",
       "      <td>H</td>\n",
       "      <td>THR</td>\n",
       "      <td>35</td>\n",
       "      <td>V</td>\n",
       "      <td>LYS</td>\n",
       "      <td>16</td>\n",
       "      <td>14.343775</td>\n",
       "      <td>THR-35</td>\n",
       "      <td>LYS-16</td>\n",
       "      <td>1bj1</td>\n",
       "      <td>T</td>\n",
       "      <td>K</td>\n",
       "      <td>T-35</td>\n",
       "      <td>K-16</td>\n",
       "    </tr>\n",
       "  </tbody>\n",
       "</table>\n",
       "</div>"
      ],
      "text/plain": [
       "     ab_label ab_res  ab_seqid ag_label ag_res  ag_seqid  distances  \\\n",
       "8248        H    TYR        28        W    GLN        79  14.298218   \n",
       "8249        H    TYR        28        W    MET        81  14.552553   \n",
       "8252        H    TYR        28        W    GLN        89  14.830989   \n",
       "8225        H    THR        29        V    TYR        21  14.333929   \n",
       "8227        H    THR        29        W    LYS        48  14.978921   \n",
       "8223        H    THR        29        W    ILE        80  13.960920   \n",
       "8212        H    PHE        30        V    PHE        17  13.223936   \n",
       "8216        H    PHE        30        W    GLY        88  14.412254   \n",
       "8215        H    PHE        30        W    GLY        92  14.345451   \n",
       "8233        H    THR        35        V    LYS        16  14.343775   \n",
       "\n",
       "     ab_ress_seqid ag_ress_seqid   pdb ab_letter ag_letter ab_letter_seqid  \\\n",
       "8248        TYR-28        GLN-79  1bj1         Y         Q            Y-28   \n",
       "8249        TYR-28        MET-81  1bj1         Y         M            Y-28   \n",
       "8252        TYR-28        GLN-89  1bj1         Y         Q            Y-28   \n",
       "8225        THR-29        TYR-21  1bj1         T         Y            T-29   \n",
       "8227        THR-29        LYS-48  1bj1         T         K            T-29   \n",
       "8223        THR-29        ILE-80  1bj1         T         I            T-29   \n",
       "8212        PHE-30        PHE-17  1bj1         F         F            F-30   \n",
       "8216        PHE-30        GLY-88  1bj1         F         G            F-30   \n",
       "8215        PHE-30        GLY-92  1bj1         F         G            F-30   \n",
       "8233        THR-35        LYS-16  1bj1         T         K            T-35   \n",
       "\n",
       "     ag_letter_seqid  \n",
       "8248            Q-79  \n",
       "8249            M-81  \n",
       "8252            Q-89  \n",
       "8225            Y-21  \n",
       "8227            K-48  \n",
       "8223            I-80  \n",
       "8212            F-17  \n",
       "8216            G-88  \n",
       "8215            G-92  \n",
       "8233            K-16  "
      ]
     },
     "execution_count": 55,
     "metadata": {},
     "output_type": "execute_result"
    }
   ],
   "source": [
    "distances_df.head(10)"
   ]
  },
  {
   "cell_type": "markdown",
   "id": "184a162a",
   "metadata": {},
   "source": [
    "## 1.1 Read distances.csv line by line to create pdb_dict.json"
   ]
  },
  {
   "cell_type": "code",
   "execution_count": 63,
   "id": "3ff049f8",
   "metadata": {},
   "outputs": [],
   "source": [
    "pdb_dict = {'pdbs':{}}\n",
    "\n",
    "file = open('distances.csv', 'r')\n",
    "count = 0\n",
    "\n",
    "header = file.readline()[:-1].split(',')\n",
    "\n",
    "header_to_idx = {value:i for i,value in enumerate(header)}\n",
    "\n",
    "#while line:\n",
    "while count:\n",
    "  \n",
    "    # Get next line from file\n",
    "    line = file.readline()\n",
    "    values = line[:-1].split(',')\n",
    "\n",
    "    # If line is empty\n",
    "    # end of file is reached\n",
    "    if not line:\n",
    "        break\n",
    "\n",
    "    ab_label = values[header_to_idx['ab_label']]\n",
    "    ab_res = values[header_to_idx['ab_res']]\n",
    "    ab_seqid = values[header_to_idx['ab_seqid']]\n",
    "    ab_letter = values[header_to_idx['ab_letter']]\n",
    "    ag_label = values[header_to_idx['ag_label']]\n",
    "    ab_res = values[header_to_idx['ag_res']]\n",
    "    ag_seqid = values[header_to_idx['ag_seqid']]\n",
    "    ag_letter = values[header_to_idx['ag_letter']]\n",
    "    distances = values[header_to_idx['distances']]\n",
    "    ab_ress_seqid = values[header_to_idx['ab_ress_seqid']]\n",
    "    ag_ress_seqid = values[header_to_idx['ag_ress_seqid']]\n",
    "    ab_letter_seqid = values[header_to_idx['ab_letter_seqid']]\n",
    "    ag_letter_seqid = values[header_to_idx['ag_letter_seqid']]\n",
    "    pdb = values[header_to_idx['pdb']]\n",
    "\n",
    "    if pdb not in pdb_dict['pdbs']:\n",
    "        pdb_dict['pdbs'][pdb] = {'ab_labels':{}}\n",
    "\n",
    "    \n",
    "    ag_letter_dict = {'ag_letter':ag_letter,\n",
    "                    'ag_seqid':ag_seqid,\n",
    "                    'ag_letter_seqid':ag_letter_seqid,\n",
    "                    'ag_label':ag_label}\n",
    "    ab_letter_dict = {'ab_letter':ab_letter,\n",
    "                    'ab_seqid':ab_seqid,\n",
    "                    'ab_letter_seqid':ab_letter_seqid,\n",
    "                    'ag_contacts':[ag_letter_dict]}\n",
    "\n",
    "    if ab_label not in pdb_dict['pdbs'][pdb]['ab_labels']: \n",
    "        # If ab_label is new, initialize it with ab_letter and ag_letter\n",
    "        pdb_dict['pdbs'][pdb]['ab_labels'][ab_label] = {'ab_letters':[ab_letter_dict]}\n",
    "    else:\n",
    "        # Else, check if the current ab_letter_ is the same as the previous ab_letter. If so, append new ag_letter \n",
    "        # to ag_contacts.\n",
    "        prev_ab_letter_seqid = pdb_dict['pdbs'][pdb]['ab_labels'][ab_label]['ab_letters'][-1]['ab_letter_seqid']\n",
    "        if prev_ab_letter_seqid == ab_letter_seqid:\n",
    "            pdb_dict['pdbs'][pdb]['ab_labels'][ab_label]['ab_letters'][-1]['ag_contacts'].append(ag_letter_dict)\n",
    "        else:\n",
    "            # Otherwise,append new ab_letter and ag_letter\n",
    "            pdb_dict['pdbs'][pdb]['ab_labels'][ab_label]['ab_letters'].append(ab_letter_dict)\n",
    "    \n",
    "    # Prepare for reading next line\n",
    "    count += 1\n",
    "    line.strip()\n",
    "\n",
    "  \n",
    "file.close()"
   ]
  },
  {
   "cell_type": "markdown",
   "id": "52591600",
   "metadata": {},
   "source": [
    "# 2. Make contact matrix per pdb"
   ]
  },
  {
   "cell_type": "code",
   "execution_count": 64,
   "id": "d69ee367",
   "metadata": {},
   "outputs": [],
   "source": [
    "with open('pdb_dict.json','r') as f:\n",
    "    pdb_dict = json.load(f)"
   ]
  },
  {
   "cell_type": "code",
   "execution_count": 65,
   "id": "c46ac997",
   "metadata": {},
   "outputs": [],
   "source": [
    "pdb = '1hh9'"
   ]
  },
  {
   "cell_type": "code",
   "execution_count": 66,
   "id": "c2b7276d",
   "metadata": {},
   "outputs": [],
   "source": [
    "pdb_parser = PDBParser()\n",
    "structure = pdb_parser.get_structure(pdb, \"sabdab-data/imgt/{}.pdb\".format(pdb))"
   ]
  },
  {
   "cell_type": "code",
   "execution_count": 67,
   "id": "1e00154a",
   "metadata": {},
   "outputs": [
    {
     "data": {
      "application/vnd.jupyter.widget-view+json": {
       "model_id": "8e8d9cba81054041a0e51f55350ee4f9",
       "version_major": 2,
       "version_minor": 0
      },
      "text/plain": [
       "NGLWidget()"
      ]
     },
     "metadata": {},
     "output_type": "display_data"
    }
   ],
   "source": [
    "view = nv.show_biopython(structure)\n",
    "view"
   ]
  },
  {
   "cell_type": "code",
   "execution_count": 68,
   "id": "cba54134",
   "metadata": {},
   "outputs": [],
   "source": [
    "pdb_handler = PDBHandler(pdb_dict['pdbs'][pdb])"
   ]
  },
  {
   "cell_type": "code",
   "execution_count": 70,
   "id": "48fece44",
   "metadata": {},
   "outputs": [],
   "source": [
    "contacts_dict = pdb_dict['pdbs'][pdb]\n"
   ]
  },
  {
   "cell_type": "code",
   "execution_count": null,
   "id": "886ac0bc",
   "metadata": {},
   "outputs": [],
   "source": [
    "def get_full_seq(res_list:list,chain_label:str,n=6)->str:\n",
    "    '''\n",
    "    Pass the list of consecutive residues sequence ids that are in a contact region\n",
    "    in sorted order and n (how many residues before and after the first \n",
    "    and last contact residue we will extract).\n",
    "\n",
    "    The function gets min-n (or min if min-n is less than the first residue) and \n",
    "    max+n(or max if max+n is more than the max residue), then loads the PDB and \n",
    "    gets the complete sequence.\n",
    "\n",
    "    Parameters\n",
    "    ----------\n",
    "    res_list : list of residues that are in a contact region, either \n",
    "    in the paratope or the epitope\n",
    "    chain_label : the label of the chain they belong to in the structure.\n",
    "    n : how many residues are going to be added before and after the\n",
    "    min and max limits of the contact region. \n",
    "    '''\n",
    "    \n",
    "    full_seq = ''\n",
    "    return full_seq"
   ]
  },
  {
   "cell_type": "code",
   "execution_count": 36,
   "id": "f5f969f4",
   "metadata": {},
   "outputs": [
    {
     "data": {
      "text/plain": [
       "dict_keys(['ab_labels'])"
      ]
     },
     "execution_count": 36,
     "metadata": {},
     "output_type": "execute_result"
    }
   ],
   "source": [
    "contacts_dict.keys()"
   ]
  },
  {
   "cell_type": "code",
   "execution_count": 71,
   "id": "b0d5305d",
   "metadata": {},
   "outputs": [
    {
     "data": {
      "text/plain": [
       "dict_keys(['A', 'B'])"
      ]
     },
     "execution_count": 71,
     "metadata": {},
     "output_type": "execute_result"
    }
   ],
   "source": [
    "contacts_dict['ab_labels'].keys()"
   ]
  },
  {
   "cell_type": "code",
   "execution_count": 72,
   "id": "c5144cc6",
   "metadata": {},
   "outputs": [],
   "source": [
    "chain_label = 'A'\n",
    "n=6"
   ]
  },
  {
   "cell_type": "code",
   "execution_count": 73,
   "id": "e0c0b28f",
   "metadata": {},
   "outputs": [],
   "source": [
    "contacts_dict['ab_labels'][chain_label]\n",
    "seqids = []\n",
    "for ab_letter_dict in contacts_dict['ab_labels'][chain_label]['ab_letters']:\n",
    "    seqid = ab_letter_dict['ab_seqid']\n",
    "    seqids.append(seqid)"
   ]
  },
  {
   "cell_type": "code",
   "execution_count": 74,
   "id": "8c95d00a",
   "metadata": {},
   "outputs": [
    {
     "data": {
      "text/plain": [
       "['28', '29', '36', '37', '38', '56', '57', '65']"
      ]
     },
     "execution_count": 74,
     "metadata": {},
     "output_type": "execute_result"
    }
   ],
   "source": [
    "seqids"
   ]
  },
  {
   "cell_type": "code",
   "execution_count": null,
   "id": "52343bcd",
   "metadata": {},
   "outputs": [],
   "source": [
    "from itertools import groupby\n",
    "from operator import itemgetter\n",
    "data = [ 1, 4,5,6, 10, 15,16,17,18, 22, 25,26,27,28]\n",
    "for k, g in groupby(enumerate(data), lambda (i, x): i-x):\n",
    "    print map(itemgetter(1), g)"
   ]
  }
 ],
 "metadata": {
  "kernelspec": {
   "display_name": "Python 3 (ipykernel)",
   "language": "python",
   "name": "python3"
  },
  "language_info": {
   "codemirror_mode": {
    "name": "ipython",
    "version": 3
   },
   "file_extension": ".py",
   "mimetype": "text/x-python",
   "name": "python",
   "nbconvert_exporter": "python",
   "pygments_lexer": "ipython3",
   "version": "3.10.4"
  },
  "vscode": {
   "interpreter": {
    "hash": "f94bc1402fe80a029001b6da924b7cf117cfc61c226a38a5edc06f0d5292f013"
   }
  }
 },
 "nbformat": 4,
 "nbformat_minor": 5
}
